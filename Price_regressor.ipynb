{
  "cells": [
    {
      "cell_type": "markdown",
      "metadata": {
        "id": "view-in-github",
        "colab_type": "text"
      },
      "source": [
        "<a href=\"https://colab.research.google.com/github/emnasouki/test_tictactrip/blob/main/Price_regressor.ipynb\" target=\"_parent\"><img src=\"https://colab.research.google.com/assets/colab-badge.svg\" alt=\"Open In Colab\"/></a>"
      ]
    },
    {
      "cell_type": "markdown",
      "source": [
        "### Importations des bibliothèques"
      ],
      "metadata": {
        "id": "IQyrBd8bpqEa"
      }
    },
    {
      "cell_type": "code",
      "execution_count": null,
      "metadata": {
        "id": "RUf2n_1gnMxN"
      },
      "outputs": [],
      "source": [
        "import numpy as np  \n",
        "import pandas as pd\n",
        "import math\n",
        "from sklearn.ensemble import RandomForestRegressor\n",
        "from sklearn.model_selection import train_test_split\n",
        "from sklearn.metrics import mean_squared_error\n"
      ]
    },
    {
      "cell_type": "markdown",
      "source": [
        "### Importation des données"
      ],
      "metadata": {
        "id": "tK8Xirlbpxdb"
      }
    },
    {
      "cell_type": "code",
      "execution_count": null,
      "metadata": {
        "colab": {
          "base_uri": "https://localhost:8080/"
        },
        "id": "8zNhRmm2m_MV",
        "outputId": "62e4ccef-2c5a-428a-ab91-9dba9548cadb"
      },
      "outputs": [
        {
          "output_type": "stream",
          "name": "stderr",
          "text": [
            "/usr/local/lib/python3.7/dist-packages/IPython/core/interactiveshell.py:3326: DtypeWarning: Columns (4,5,6,7) have mixed types.Specify dtype option on import or set low_memory=False.\n",
            "  exec(code_obj, self.user_global_ns, self.user_ns)\n"
          ]
        }
      ],
      "source": [
        "All_data = pd.read_csv(\"./data/All_data.csv\")"
      ]
    },
    {
      "cell_type": "code",
      "execution_count": null,
      "metadata": {
        "colab": {
          "base_uri": "https://localhost:8080/",
          "height": 763
        },
        "id": "yy12lKnon0Vd",
        "outputId": "b8f04dda-c41f-4b40-b4ce-df351641c787"
      },
      "outputs": [
        {
          "output_type": "display_data",
          "data": {
            "text/plain": [
              "       Unnamed: 0  company  price_in_cents transport_type has_bicycle  \\\n",
              "0               0     8385            4550     carpooling       False   \n",
              "1               5     8385            1800     carpooling       False   \n",
              "2               6     8385            2150     carpooling       False   \n",
              "3               7     8385            1700     carpooling       False   \n",
              "4               8     8385            1700     carpooling       False   \n",
              "...           ...      ...             ...            ...         ...   \n",
              "67440       74163       13            2590            bus       False   \n",
              "67441       74164        9            2700            bus       False   \n",
              "67442       74165     8371            3000            bus       False   \n",
              "67443       74166       13            2880            bus       False   \n",
              "67444       74167     8371            2000            bus       False   \n",
              "\n",
              "      has_adjustable_seats has_plug has_wifi    distance   duration  o_city  \\\n",
              "0                    False    False    False  503.136831   6.166667     611   \n",
              "1                    False    False    False  205.933671   3.000000     628   \n",
              "2                    False    False    False  205.933671   2.500000     628   \n",
              "3                    False    False    False  205.933671   2.500000     628   \n",
              "4                    False    False    False  205.933671   2.833333     628   \n",
              "...                    ...      ...      ...         ...        ...     ...   \n",
              "67440                False    False     True  339.046766  13.500000     628   \n",
              "67441                 True     True     True  339.046766   6.500000     628   \n",
              "67442                 True     True     True  339.046766   6.750000     628   \n",
              "67443                False    False     True  339.046766   7.750000     628   \n",
              "67444                 True     True     True  339.046766   6.916667     628   \n",
              "\n",
              "       d_city  \n",
              "0         542  \n",
              "1         453  \n",
              "2         453  \n",
              "3         453  \n",
              "4         453  \n",
              "...       ...  \n",
              "67440     562  \n",
              "67441     562  \n",
              "67442     562  \n",
              "67443     562  \n",
              "67444     562  \n",
              "\n",
              "[67445 rows x 12 columns]"
            ],
            "text/html": [
              "\n",
              "  <div id=\"df-b408b406-fdae-484e-8c7a-4b1e9eb741ff\">\n",
              "    <div class=\"colab-df-container\">\n",
              "      <div>\n",
              "<style scoped>\n",
              "    .dataframe tbody tr th:only-of-type {\n",
              "        vertical-align: middle;\n",
              "    }\n",
              "\n",
              "    .dataframe tbody tr th {\n",
              "        vertical-align: top;\n",
              "    }\n",
              "\n",
              "    .dataframe thead th {\n",
              "        text-align: right;\n",
              "    }\n",
              "</style>\n",
              "<table border=\"1\" class=\"dataframe\">\n",
              "  <thead>\n",
              "    <tr style=\"text-align: right;\">\n",
              "      <th></th>\n",
              "      <th>Unnamed: 0</th>\n",
              "      <th>company</th>\n",
              "      <th>price_in_cents</th>\n",
              "      <th>transport_type</th>\n",
              "      <th>has_bicycle</th>\n",
              "      <th>has_adjustable_seats</th>\n",
              "      <th>has_plug</th>\n",
              "      <th>has_wifi</th>\n",
              "      <th>distance</th>\n",
              "      <th>duration</th>\n",
              "      <th>o_city</th>\n",
              "      <th>d_city</th>\n",
              "    </tr>\n",
              "  </thead>\n",
              "  <tbody>\n",
              "    <tr>\n",
              "      <th>0</th>\n",
              "      <td>0</td>\n",
              "      <td>8385</td>\n",
              "      <td>4550</td>\n",
              "      <td>carpooling</td>\n",
              "      <td>False</td>\n",
              "      <td>False</td>\n",
              "      <td>False</td>\n",
              "      <td>False</td>\n",
              "      <td>503.136831</td>\n",
              "      <td>6.166667</td>\n",
              "      <td>611</td>\n",
              "      <td>542</td>\n",
              "    </tr>\n",
              "    <tr>\n",
              "      <th>1</th>\n",
              "      <td>5</td>\n",
              "      <td>8385</td>\n",
              "      <td>1800</td>\n",
              "      <td>carpooling</td>\n",
              "      <td>False</td>\n",
              "      <td>False</td>\n",
              "      <td>False</td>\n",
              "      <td>False</td>\n",
              "      <td>205.933671</td>\n",
              "      <td>3.000000</td>\n",
              "      <td>628</td>\n",
              "      <td>453</td>\n",
              "    </tr>\n",
              "    <tr>\n",
              "      <th>2</th>\n",
              "      <td>6</td>\n",
              "      <td>8385</td>\n",
              "      <td>2150</td>\n",
              "      <td>carpooling</td>\n",
              "      <td>False</td>\n",
              "      <td>False</td>\n",
              "      <td>False</td>\n",
              "      <td>False</td>\n",
              "      <td>205.933671</td>\n",
              "      <td>2.500000</td>\n",
              "      <td>628</td>\n",
              "      <td>453</td>\n",
              "    </tr>\n",
              "    <tr>\n",
              "      <th>3</th>\n",
              "      <td>7</td>\n",
              "      <td>8385</td>\n",
              "      <td>1700</td>\n",
              "      <td>carpooling</td>\n",
              "      <td>False</td>\n",
              "      <td>False</td>\n",
              "      <td>False</td>\n",
              "      <td>False</td>\n",
              "      <td>205.933671</td>\n",
              "      <td>2.500000</td>\n",
              "      <td>628</td>\n",
              "      <td>453</td>\n",
              "    </tr>\n",
              "    <tr>\n",
              "      <th>4</th>\n",
              "      <td>8</td>\n",
              "      <td>8385</td>\n",
              "      <td>1700</td>\n",
              "      <td>carpooling</td>\n",
              "      <td>False</td>\n",
              "      <td>False</td>\n",
              "      <td>False</td>\n",
              "      <td>False</td>\n",
              "      <td>205.933671</td>\n",
              "      <td>2.833333</td>\n",
              "      <td>628</td>\n",
              "      <td>453</td>\n",
              "    </tr>\n",
              "    <tr>\n",
              "      <th>...</th>\n",
              "      <td>...</td>\n",
              "      <td>...</td>\n",
              "      <td>...</td>\n",
              "      <td>...</td>\n",
              "      <td>...</td>\n",
              "      <td>...</td>\n",
              "      <td>...</td>\n",
              "      <td>...</td>\n",
              "      <td>...</td>\n",
              "      <td>...</td>\n",
              "      <td>...</td>\n",
              "      <td>...</td>\n",
              "    </tr>\n",
              "    <tr>\n",
              "      <th>67440</th>\n",
              "      <td>74163</td>\n",
              "      <td>13</td>\n",
              "      <td>2590</td>\n",
              "      <td>bus</td>\n",
              "      <td>False</td>\n",
              "      <td>False</td>\n",
              "      <td>False</td>\n",
              "      <td>True</td>\n",
              "      <td>339.046766</td>\n",
              "      <td>13.500000</td>\n",
              "      <td>628</td>\n",
              "      <td>562</td>\n",
              "    </tr>\n",
              "    <tr>\n",
              "      <th>67441</th>\n",
              "      <td>74164</td>\n",
              "      <td>9</td>\n",
              "      <td>2700</td>\n",
              "      <td>bus</td>\n",
              "      <td>False</td>\n",
              "      <td>True</td>\n",
              "      <td>True</td>\n",
              "      <td>True</td>\n",
              "      <td>339.046766</td>\n",
              "      <td>6.500000</td>\n",
              "      <td>628</td>\n",
              "      <td>562</td>\n",
              "    </tr>\n",
              "    <tr>\n",
              "      <th>67442</th>\n",
              "      <td>74165</td>\n",
              "      <td>8371</td>\n",
              "      <td>3000</td>\n",
              "      <td>bus</td>\n",
              "      <td>False</td>\n",
              "      <td>True</td>\n",
              "      <td>True</td>\n",
              "      <td>True</td>\n",
              "      <td>339.046766</td>\n",
              "      <td>6.750000</td>\n",
              "      <td>628</td>\n",
              "      <td>562</td>\n",
              "    </tr>\n",
              "    <tr>\n",
              "      <th>67443</th>\n",
              "      <td>74166</td>\n",
              "      <td>13</td>\n",
              "      <td>2880</td>\n",
              "      <td>bus</td>\n",
              "      <td>False</td>\n",
              "      <td>False</td>\n",
              "      <td>False</td>\n",
              "      <td>True</td>\n",
              "      <td>339.046766</td>\n",
              "      <td>7.750000</td>\n",
              "      <td>628</td>\n",
              "      <td>562</td>\n",
              "    </tr>\n",
              "    <tr>\n",
              "      <th>67444</th>\n",
              "      <td>74167</td>\n",
              "      <td>8371</td>\n",
              "      <td>2000</td>\n",
              "      <td>bus</td>\n",
              "      <td>False</td>\n",
              "      <td>True</td>\n",
              "      <td>True</td>\n",
              "      <td>True</td>\n",
              "      <td>339.046766</td>\n",
              "      <td>6.916667</td>\n",
              "      <td>628</td>\n",
              "      <td>562</td>\n",
              "    </tr>\n",
              "  </tbody>\n",
              "</table>\n",
              "<p>67445 rows × 12 columns</p>\n",
              "</div>\n",
              "      <button class=\"colab-df-convert\" onclick=\"convertToInteractive('df-b408b406-fdae-484e-8c7a-4b1e9eb741ff')\"\n",
              "              title=\"Convert this dataframe to an interactive table.\"\n",
              "              style=\"display:none;\">\n",
              "        \n",
              "  <svg xmlns=\"http://www.w3.org/2000/svg\" height=\"24px\"viewBox=\"0 0 24 24\"\n",
              "       width=\"24px\">\n",
              "    <path d=\"M0 0h24v24H0V0z\" fill=\"none\"/>\n",
              "    <path d=\"M18.56 5.44l.94 2.06.94-2.06 2.06-.94-2.06-.94-.94-2.06-.94 2.06-2.06.94zm-11 1L8.5 8.5l.94-2.06 2.06-.94-2.06-.94L8.5 2.5l-.94 2.06-2.06.94zm10 10l.94 2.06.94-2.06 2.06-.94-2.06-.94-.94-2.06-.94 2.06-2.06.94z\"/><path d=\"M17.41 7.96l-1.37-1.37c-.4-.4-.92-.59-1.43-.59-.52 0-1.04.2-1.43.59L10.3 9.45l-7.72 7.72c-.78.78-.78 2.05 0 2.83L4 21.41c.39.39.9.59 1.41.59.51 0 1.02-.2 1.41-.59l7.78-7.78 2.81-2.81c.8-.78.8-2.07 0-2.86zM5.41 20L4 18.59l7.72-7.72 1.47 1.35L5.41 20z\"/>\n",
              "  </svg>\n",
              "      </button>\n",
              "      \n",
              "  <style>\n",
              "    .colab-df-container {\n",
              "      display:flex;\n",
              "      flex-wrap:wrap;\n",
              "      gap: 12px;\n",
              "    }\n",
              "\n",
              "    .colab-df-convert {\n",
              "      background-color: #E8F0FE;\n",
              "      border: none;\n",
              "      border-radius: 50%;\n",
              "      cursor: pointer;\n",
              "      display: none;\n",
              "      fill: #1967D2;\n",
              "      height: 32px;\n",
              "      padding: 0 0 0 0;\n",
              "      width: 32px;\n",
              "    }\n",
              "\n",
              "    .colab-df-convert:hover {\n",
              "      background-color: #E2EBFA;\n",
              "      box-shadow: 0px 1px 2px rgba(60, 64, 67, 0.3), 0px 1px 3px 1px rgba(60, 64, 67, 0.15);\n",
              "      fill: #174EA6;\n",
              "    }\n",
              "\n",
              "    [theme=dark] .colab-df-convert {\n",
              "      background-color: #3B4455;\n",
              "      fill: #D2E3FC;\n",
              "    }\n",
              "\n",
              "    [theme=dark] .colab-df-convert:hover {\n",
              "      background-color: #434B5C;\n",
              "      box-shadow: 0px 1px 3px 1px rgba(0, 0, 0, 0.15);\n",
              "      filter: drop-shadow(0px 1px 2px rgba(0, 0, 0, 0.3));\n",
              "      fill: #FFFFFF;\n",
              "    }\n",
              "  </style>\n",
              "\n",
              "      <script>\n",
              "        const buttonEl =\n",
              "          document.querySelector('#df-b408b406-fdae-484e-8c7a-4b1e9eb741ff button.colab-df-convert');\n",
              "        buttonEl.style.display =\n",
              "          google.colab.kernel.accessAllowed ? 'block' : 'none';\n",
              "\n",
              "        async function convertToInteractive(key) {\n",
              "          const element = document.querySelector('#df-b408b406-fdae-484e-8c7a-4b1e9eb741ff');\n",
              "          const dataTable =\n",
              "            await google.colab.kernel.invokeFunction('convertToInteractive',\n",
              "                                                     [key], {});\n",
              "          if (!dataTable) return;\n",
              "\n",
              "          const docLinkHtml = 'Like what you see? Visit the ' +\n",
              "            '<a target=\"_blank\" href=https://colab.research.google.com/notebooks/data_table.ipynb>data table notebook</a>'\n",
              "            + ' to learn more about interactive tables.';\n",
              "          element.innerHTML = '';\n",
              "          dataTable['output_type'] = 'display_data';\n",
              "          await google.colab.output.renderOutput(dataTable, element);\n",
              "          const docLink = document.createElement('div');\n",
              "          docLink.innerHTML = docLinkHtml;\n",
              "          element.appendChild(docLink);\n",
              "        }\n",
              "      </script>\n",
              "    </div>\n",
              "  </div>\n",
              "  "
            ]
          },
          "metadata": {}
        },
        {
          "output_type": "stream",
          "name": "stdout",
          "text": [
            "<class 'pandas.core.frame.DataFrame'>\n",
            "RangeIndex: 67445 entries, 0 to 67444\n",
            "Data columns (total 12 columns):\n",
            " #   Column                Non-Null Count  Dtype  \n",
            "---  ------                --------------  -----  \n",
            " 0   Unnamed: 0            67445 non-null  int64  \n",
            " 1   company               67445 non-null  int64  \n",
            " 2   price_in_cents        67445 non-null  int64  \n",
            " 3   transport_type        67445 non-null  object \n",
            " 4   has_bicycle           67434 non-null  object \n",
            " 5   has_adjustable_seats  67434 non-null  object \n",
            " 6   has_plug              67434 non-null  object \n",
            " 7   has_wifi              67434 non-null  object \n",
            " 8   distance              67445 non-null  float64\n",
            " 9   duration              67445 non-null  float64\n",
            " 10  o_city                67445 non-null  int64  \n",
            " 11  d_city                67445 non-null  int64  \n",
            "dtypes: float64(2), int64(5), object(5)\n",
            "memory usage: 6.2+ MB\n"
          ]
        }
      ],
      "source": [
        "display(All_data)\n",
        "All_data.describe()\n",
        "All_data.info()"
      ]
    },
    {
      "cell_type": "markdown",
      "metadata": {
        "id": "hDr5v6kQtexp"
      },
      "source": [
        "### Encodage de categorical text features"
      ]
    },
    {
      "cell_type": "code",
      "execution_count": null,
      "metadata": {
        "colab": {
          "base_uri": "https://localhost:8080/"
        },
        "id": "2JMj_fdWwtW7",
        "outputId": "a67d9892-542c-4f96-bdf8-93834b73d713"
      },
      "outputs": [
        {
          "output_type": "execute_result",
          "data": {
            "text/plain": [
              "array(['carpooling', 'bus', 'train'], dtype=object)"
            ]
          },
          "metadata": {},
          "execution_count": 5
        }
      ],
      "source": [
        "All_data.transport_type.unique()"
      ]
    },
    {
      "cell_type": "code",
      "execution_count": null,
      "metadata": {
        "id": "kopcjyICwnKr"
      },
      "outputs": [],
      "source": [
        "All_data['transport_type'] = All_data['transport_type'].apply(\n",
        "    lambda x: 1 if x == 'carpooling' else ( 2 if x == 'bus' else 3))"
      ]
    },
    {
      "cell_type": "code",
      "execution_count": null,
      "metadata": {
        "id": "RQGjwtgKw823"
      },
      "outputs": [],
      "source": [
        "All_data['has_bicycle'] = All_data['has_bicycle'].apply(\n",
        "    lambda x: 1 if x == True else 0)"
      ]
    },
    {
      "cell_type": "code",
      "execution_count": null,
      "metadata": {
        "id": "yt73mYyYyDUZ"
      },
      "outputs": [],
      "source": [
        "All_data['has_adjustable_seats'] = All_data['has_adjustable_seats'].apply(\n",
        "       lambda x: 1 if x == True else 0)"
      ]
    },
    {
      "cell_type": "code",
      "execution_count": null,
      "metadata": {
        "id": "Br-V1CzGyEOg"
      },
      "outputs": [],
      "source": [
        "All_data['has_plug'] = All_data['has_plug'].apply(\n",
        "    lambda x: 1 if x == True else 0)"
      ]
    },
    {
      "cell_type": "code",
      "execution_count": null,
      "metadata": {
        "id": "nfpXrDpdyKwE"
      },
      "outputs": [],
      "source": [
        "All_data['has_wifi'] = All_data['has_wifi'].apply(\n",
        "        lambda x: 1 if x == True else 0)"
      ]
    },
    {
      "cell_type": "code",
      "execution_count": null,
      "metadata": {
        "id": "Kmk64ElgyVG-"
      },
      "outputs": [],
      "source": [
        "All_data=All_data.drop([\"Unnamed: 0\"],axis=1)"
      ]
    },
    {
      "cell_type": "code",
      "source": [
        "All_data.isna().sum()"
      ],
      "metadata": {
        "colab": {
          "base_uri": "https://localhost:8080/"
        },
        "id": "g8scyi5h7HYu",
        "outputId": "531b193d-406d-48b7-c5e0-51dbefb66dd4"
      },
      "execution_count": null,
      "outputs": [
        {
          "output_type": "execute_result",
          "data": {
            "text/plain": [
              "company                 0\n",
              "price_in_cents          0\n",
              "transport_type          0\n",
              "has_bicycle             0\n",
              "has_adjustable_seats    0\n",
              "has_plug                0\n",
              "has_wifi                0\n",
              "distance                0\n",
              "duration                0\n",
              "o_city                  0\n",
              "d_city                  0\n",
              "dtype: int64"
            ]
          },
          "metadata": {},
          "execution_count": 12
        }
      ]
    },
    {
      "cell_type": "markdown",
      "metadata": {
        "id": "aMAu7dZgpITN"
      },
      "source": [
        "### Le model Random Forest Regressor et ces paramétres\n"
      ]
    },
    {
      "cell_type": "code",
      "source": [
        "data = All_data.loc[:, All_data.columns != 'price_in_cents']\n",
        "price = All_data.loc[:, All_data.columns == 'price_in_cents']"
      ],
      "metadata": {
        "id": "6cMhl41KugCS"
      },
      "execution_count": null,
      "outputs": []
    },
    {
      "cell_type": "markdown",
      "source": [
        "\n",
        "Splitting data to test and train set\n"
      ],
      "metadata": {
        "id": "zF4fj6ttqe1V"
      }
    },
    {
      "cell_type": "code",
      "execution_count": null,
      "metadata": {
        "id": "RvErhEeipZ1S"
      },
      "outputs": [],
      "source": [
        "X_train, X_test, price_train, price_test = train_test_split(data, price, test_size = 0.25, random_state = 42)"
      ]
    },
    {
      "cell_type": "markdown",
      "metadata": {
        "id": "_KeB9K0Epb4Y"
      },
      "source": [
        "params_to_use= {\n",
        "  n_estimators= 2000;\n",
        "  criterion= \"squared_error\"\n",
        "  max_features=“atuo”\n",
        "  bootstrap=True\n",
        "  max_samples = 20000,\n",
        "  random_state =42}"
      ]
    },
    {
      "cell_type": "code",
      "source": [
        "model = RandomForestRegressor( n_estimators= 2000,\n",
        "  criterion= \"squared_error\",\n",
        "  max_features= \"auto\",\n",
        "  bootstrap=True,\n",
        "   max_samples = 20000, \n",
        "\n",
        "  random_state = 42)"
      ],
      "metadata": {
        "id": "HCa0m0kMBe6k"
      },
      "execution_count": null,
      "outputs": []
    },
    {
      "cell_type": "code",
      "source": [
        "model.fit(X_train, price_train)"
      ],
      "metadata": {
        "colab": {
          "base_uri": "https://localhost:8080/"
        },
        "id": "T3ONW9qcBxmh",
        "outputId": "0a1d6e04-7cc6-4de4-c228-c802c5f4b363"
      },
      "execution_count": null,
      "outputs": [
        {
          "output_type": "stream",
          "name": "stderr",
          "text": [
            "/usr/local/lib/python3.7/dist-packages/ipykernel_launcher.py:1: DataConversionWarning: A column-vector y was passed when a 1d array was expected. Please change the shape of y to (n_samples,), for example using ravel().\n",
            "  \"\"\"Entry point for launching an IPython kernel.\n"
          ]
        },
        {
          "output_type": "execute_result",
          "data": {
            "text/plain": [
              "RandomForestRegressor(max_samples=20000, n_estimators=2000, random_state=42)"
            ]
          },
          "metadata": {},
          "execution_count": 31
        }
      ]
    },
    {
      "cell_type": "markdown",
      "metadata": {
        "id": "RV0dddl5pLQI"
      },
      "source": [
        "###Prediction et resultats"
      ]
    },
    {
      "cell_type": "code",
      "execution_count": null,
      "metadata": {
        "id": "qfTXSnphpjdr"
      },
      "outputs": [],
      "source": [
        "price_prediction = model.predict(X_test)"
      ]
    },
    {
      "cell_type": "code",
      "execution_count": null,
      "metadata": {
        "id": "kjjEBW5lpgZO",
        "colab": {
          "base_uri": "https://localhost:8080/"
        },
        "outputId": "6904fedb-4ea5-40eb-ff05-3c4906d2e509"
      },
      "outputs": [
        {
          "output_type": "stream",
          "name": "stdout",
          "text": [
            "Root Mean Squared Error:  957.0811541825337\n"
          ]
        }
      ],
      "source": [
        "MSE = mean_squared_error(price_prediction,price_test)\n",
        "RMSE = math.sqrt(MSE)\n",
        "print(\"Root Mean Squared Error: \",RMSE)"
      ]
    }
  ],
  "metadata": {
    "colab": {
      "provenance": [],
      "include_colab_link": true
    },
    "kernelspec": {
      "display_name": "Python 3",
      "name": "python3"
    },
    "language_info": {
      "name": "python"
    }
  },
  "nbformat": 4,
  "nbformat_minor": 0
}