{
  "cells": [
    {
      "cell_type": "markdown",
      "metadata": {
        "id": "yd5jKUJzitif"
      },
      "source": [
        "### Importations des bibliothèques"
      ]
    },
    {
      "cell_type": "code",
      "execution_count": null,
      "metadata": {
        "colab": {
          "base_uri": "https://localhost:8080/",
          "height": 534
        },
        "id": "T-rHB48JSPL_",
        "outputId": "bb294451-f54f-4671-bd72-67c2afadc61b"
      },
      "outputs": [
        {
          "output_type": "stream",
          "name": "stdout",
          "text": [
            "Looking in indexes: https://pypi.org/simple, https://us-python.pkg.dev/colab-wheels/public/simple/\n",
            "Collecting numpy==1.21.4\n",
            "  Downloading numpy-1.21.4-cp37-cp37m-manylinux_2_12_x86_64.manylinux2010_x86_64.whl (15.7 MB)\n",
            "\u001b[K     |████████████████████████████████| 15.7 MB 115 kB/s \n",
            "\u001b[?25hInstalling collected packages: numpy\n",
            "  Attempting uninstall: numpy\n",
            "    Found existing installation: numpy 1.21.6\n",
            "    Uninstalling numpy-1.21.6:\n",
            "      Successfully uninstalled numpy-1.21.6\n",
            "Successfully installed numpy-1.21.4\n"
          ]
        },
        {
          "output_type": "display_data",
          "data": {
            "application/vnd.colab-display-data+json": {
              "pip_warning": {
                "packages": [
                  "numpy"
                ]
              }
            }
          },
          "metadata": {}
        },
        {
          "output_type": "stream",
          "name": "stdout",
          "text": [
            "Looking in indexes: https://pypi.org/simple, https://us-python.pkg.dev/colab-wheels/public/simple/\n",
            "Collecting pandas==1.3.4\n",
            "  Downloading pandas-1.3.4-cp37-cp37m-manylinux_2_17_x86_64.manylinux2014_x86_64.whl (11.3 MB)\n",
            "\u001b[K     |████████████████████████████████| 11.3 MB 3.6 MB/s \n",
            "\u001b[?25hRequirement already satisfied: numpy>=1.17.3 in /usr/local/lib/python3.7/dist-packages (from pandas==1.3.4) (1.21.4)\n",
            "Requirement already satisfied: python-dateutil>=2.7.3 in /usr/local/lib/python3.7/dist-packages (from pandas==1.3.4) (2.8.2)\n",
            "Requirement already satisfied: pytz>=2017.3 in /usr/local/lib/python3.7/dist-packages (from pandas==1.3.4) (2022.6)\n",
            "Requirement already satisfied: six>=1.5 in /usr/local/lib/python3.7/dist-packages (from python-dateutil>=2.7.3->pandas==1.3.4) (1.15.0)\n",
            "Installing collected packages: pandas\n",
            "  Attempting uninstall: pandas\n",
            "    Found existing installation: pandas 1.3.5\n",
            "    Uninstalling pandas-1.3.5:\n",
            "      Successfully uninstalled pandas-1.3.5\n",
            "Successfully installed pandas-1.3.4\n"
          ]
        }
      ],
      "source": [
        "!pip install numpy==1.21.4\n",
        "!pip install pandas==1.3.4\n",
        "import numpy as np  \n",
        "import pandas as pd\n",
        "from datetime import datetime\n",
        "import geopy.distance"
      ]
    },
    {
      "cell_type": "markdown",
      "metadata": {
        "id": "jqO-iTJ1TCfv"
      },
      "source": [
        "### Fonctions"
      ]
    },
    {
      "cell_type": "code",
      "execution_count": null,
      "metadata": {
        "id": "ZI9gRKjnTJdn"
      },
      "outputs": [],
      "source": [
        "#calculer la durée entre deux dates\n",
        "def TimeDiff(date_1,date_2):\n",
        "  date_format_str = '%Y-%m-%d %H:%M:%S+%f'\n",
        "  start = datetime.strptime(date_1, date_format_str)\n",
        "  end =   datetime.strptime(date_2, date_format_str)\n",
        "  diff = end - start\n",
        "  diff_in_hours = diff.total_seconds() / 3600\n",
        "  return(diff_in_hours)"
      ]
    },
    {
      "cell_type": "code",
      "execution_count": null,
      "metadata": {
        "id": "85rfHjgdTbKH"
      },
      "outputs": [],
      "source": [
        "#calculer la distance entre deux coordonnées\n",
        "def distances(coords_1, coords_2):\n",
        "  return(geopy.distance.geodesic(coords_1, coords_2).km)"
      ]
    },
    {
      "cell_type": "code",
      "execution_count": null,
      "metadata": {
        "id": "ZHLED-rpUHZW"
      },
      "outputs": [],
      "source": [
        "#ajouter la colonne de dureé de trajet dans le dataframe\n",
        "def add_duration(df):\n",
        "  duration=[]\n",
        "  for i,trial in df.iterrows():\n",
        "    duration.append(TimeDiff(df.loc[i, \"departure_ts\"],df.loc[i, \"arrival_ts\"]))\n",
        "  df['duration']=duration\n",
        "  return(df)"
      ]
    },
    {
      "cell_type": "code",
      "execution_count": null,
      "metadata": {
        "id": "5n2y4yIEUncY"
      },
      "outputs": [],
      "source": [
        "#ajouter la colonne des trajet dans le dataframe\n",
        "def add_traget(df):\n",
        "  traget=[]\n",
        "  for i,trial in df.iterrows():\n",
        "    traget.append(df.loc[i, \"o\"]+' to '+df.loc[i, \"d\"])\n",
        "  df['traget']=traget\n",
        "  return(df)\n"
      ]
    },
    {
      "cell_type": "code",
      "execution_count": null,
      "metadata": {
        "id": "8pfXajdNVWUp"
      },
      "outputs": [],
      "source": [
        "#ajouter la colonne de distance du chemin dans le dataframe\n",
        "def add_distance(df):\n",
        "  dis=[]\n",
        "  for i,trial in df.iterrows():\n",
        "    dis.append(distances(((df.loc[i, \"latitude_depart\"]),(df.loc[i, \"longitude_depart\"])),\n",
        "    ((df.loc[i, \"latitude_destination\"]),(df.loc[i, \"longitude_destination\"]))))\n",
        "  df['distance']=dis\n",
        "  return(df)"
      ]
    },
    {
      "cell_type": "code",
      "execution_count": null,
      "metadata": {
        "id": "y2O21KHaV-Su"
      },
      "outputs": [],
      "source": [
        "#suppression de l'anomalie dans la colonne de la durée \n",
        "def removing_Outlier(df):\n",
        "  l=list(df['duration'].quantile([0.25,0.5,0.75]))\n",
        "  IQR = l[2] -l[0]\n",
        "  Upper_Bound=(l[2] + 1.5 * IQR)\n",
        "  def keep(dis):\n",
        "    if dis <= Upper_Bound :\n",
        "      return(True)\n",
        "    else:\n",
        "      return(False)\n",
        "  df['keep'] = df['duration'].apply(keep)\n",
        "  df= df[df.keep == True]\n",
        "  return(df)\n"
      ]
    },
    {
      "cell_type": "code",
      "execution_count": null,
      "metadata": {
        "id": "y3pP-cBlZB-u"
      },
      "outputs": [],
      "source": [
        "#Ajout d'une colonne de plage des distances dans le data frame\n",
        "def add_RangeDistance(df):\n",
        "  l=list(df['distance'].quantile([0.25,0.5,0.75]))\n",
        "  def RangeDistance(dis):\n",
        "    if 0 <= dis and dis <= l[0]:\n",
        "      return('0-206km')\n",
        "    elif dis <= l[1]:\n",
        "      return('207-339km')\n",
        "    elif dis <= l[2]:\n",
        "      return('340-481km')\n",
        "    else:\n",
        "      return('481+km')\n",
        "  df['RangeDistance'] = df['distance'].apply(RangeDistance)\n",
        "  return(df)"
      ]
    },
    {
      "cell_type": "markdown",
      "metadata": {
        "id": "Zpan0RNAbbTp"
      },
      "source": [
        "### Importation des données"
      ]
    },
    {
      "cell_type": "code",
      "source": [
        "#from google.colab import drive\n",
        "#drive.mount('/content/drive')"
      ],
      "metadata": {
        "colab": {
          "base_uri": "https://localhost:8080/",
          "height": 336
        },
        "id": "hx8xr_5H_Rp-",
        "outputId": "8c2d7f91-c17e-4320-e67d-06dc35e3b136"
      },
      "execution_count": null,
      "outputs": [
        {
          "output_type": "error",
          "ename": "MessageError",
          "evalue": "ignored",
          "traceback": [
            "\u001b[0;31m---------------------------------------------------------------------------\u001b[0m",
            "\u001b[0;31mMessageError\u001b[0m                              Traceback (most recent call last)",
            "\u001b[0;32m<ipython-input-10-d5df0069828e>\u001b[0m in \u001b[0;36m<module>\u001b[0;34m\u001b[0m\n\u001b[1;32m      1\u001b[0m \u001b[0;32mfrom\u001b[0m \u001b[0mgoogle\u001b[0m\u001b[0;34m.\u001b[0m\u001b[0mcolab\u001b[0m \u001b[0;32mimport\u001b[0m \u001b[0mdrive\u001b[0m\u001b[0;34m\u001b[0m\u001b[0;34m\u001b[0m\u001b[0m\n\u001b[0;32m----> 2\u001b[0;31m \u001b[0mdrive\u001b[0m\u001b[0;34m.\u001b[0m\u001b[0mmount\u001b[0m\u001b[0;34m(\u001b[0m\u001b[0;34m'/content/drive'\u001b[0m\u001b[0;34m)\u001b[0m\u001b[0;34m\u001b[0m\u001b[0;34m\u001b[0m\u001b[0m\n\u001b[0m",
            "\u001b[0;32m/usr/local/lib/python3.7/dist-packages/google/colab/drive.py\u001b[0m in \u001b[0;36mmount\u001b[0;34m(mountpoint, force_remount, timeout_ms, readonly)\u001b[0m\n\u001b[1;32m    104\u001b[0m       \u001b[0mtimeout_ms\u001b[0m\u001b[0;34m=\u001b[0m\u001b[0mtimeout_ms\u001b[0m\u001b[0;34m,\u001b[0m\u001b[0;34m\u001b[0m\u001b[0;34m\u001b[0m\u001b[0m\n\u001b[1;32m    105\u001b[0m       \u001b[0mephemeral\u001b[0m\u001b[0;34m=\u001b[0m\u001b[0;32mTrue\u001b[0m\u001b[0;34m,\u001b[0m\u001b[0;34m\u001b[0m\u001b[0;34m\u001b[0m\u001b[0m\n\u001b[0;32m--> 106\u001b[0;31m       readonly=readonly)\n\u001b[0m\u001b[1;32m    107\u001b[0m \u001b[0;34m\u001b[0m\u001b[0m\n\u001b[1;32m    108\u001b[0m \u001b[0;34m\u001b[0m\u001b[0m\n",
            "\u001b[0;32m/usr/local/lib/python3.7/dist-packages/google/colab/drive.py\u001b[0m in \u001b[0;36m_mount\u001b[0;34m(mountpoint, force_remount, timeout_ms, ephemeral, readonly)\u001b[0m\n\u001b[1;32m    123\u001b[0m   \u001b[0;32mif\u001b[0m \u001b[0mephemeral\u001b[0m\u001b[0;34m:\u001b[0m\u001b[0;34m\u001b[0m\u001b[0;34m\u001b[0m\u001b[0m\n\u001b[1;32m    124\u001b[0m     _message.blocking_request(\n\u001b[0;32m--> 125\u001b[0;31m         'request_auth', request={'authType': 'dfs_ephemeral'}, timeout_sec=None)\n\u001b[0m\u001b[1;32m    126\u001b[0m \u001b[0;34m\u001b[0m\u001b[0m\n\u001b[1;32m    127\u001b[0m   \u001b[0mmountpoint\u001b[0m \u001b[0;34m=\u001b[0m \u001b[0m_os\u001b[0m\u001b[0;34m.\u001b[0m\u001b[0mpath\u001b[0m\u001b[0;34m.\u001b[0m\u001b[0mexpanduser\u001b[0m\u001b[0;34m(\u001b[0m\u001b[0mmountpoint\u001b[0m\u001b[0;34m)\u001b[0m\u001b[0;34m\u001b[0m\u001b[0;34m\u001b[0m\u001b[0m\n",
            "\u001b[0;32m/usr/local/lib/python3.7/dist-packages/google/colab/_message.py\u001b[0m in \u001b[0;36mblocking_request\u001b[0;34m(request_type, request, timeout_sec, parent)\u001b[0m\n\u001b[1;32m    169\u001b[0m   request_id = send_request(\n\u001b[1;32m    170\u001b[0m       request_type, request, parent=parent, expect_reply=True)\n\u001b[0;32m--> 171\u001b[0;31m   \u001b[0;32mreturn\u001b[0m \u001b[0mread_reply_from_input\u001b[0m\u001b[0;34m(\u001b[0m\u001b[0mrequest_id\u001b[0m\u001b[0;34m,\u001b[0m \u001b[0mtimeout_sec\u001b[0m\u001b[0;34m)\u001b[0m\u001b[0;34m\u001b[0m\u001b[0;34m\u001b[0m\u001b[0m\n\u001b[0m",
            "\u001b[0;32m/usr/local/lib/python3.7/dist-packages/google/colab/_message.py\u001b[0m in \u001b[0;36mread_reply_from_input\u001b[0;34m(message_id, timeout_sec)\u001b[0m\n\u001b[1;32m    100\u001b[0m         reply.get('colab_msg_id') == message_id):\n\u001b[1;32m    101\u001b[0m       \u001b[0;32mif\u001b[0m \u001b[0;34m'error'\u001b[0m \u001b[0;32min\u001b[0m \u001b[0mreply\u001b[0m\u001b[0;34m:\u001b[0m\u001b[0;34m\u001b[0m\u001b[0;34m\u001b[0m\u001b[0m\n\u001b[0;32m--> 102\u001b[0;31m         \u001b[0;32mraise\u001b[0m \u001b[0mMessageError\u001b[0m\u001b[0;34m(\u001b[0m\u001b[0mreply\u001b[0m\u001b[0;34m[\u001b[0m\u001b[0;34m'error'\u001b[0m\u001b[0;34m]\u001b[0m\u001b[0;34m)\u001b[0m\u001b[0;34m\u001b[0m\u001b[0;34m\u001b[0m\u001b[0m\n\u001b[0m\u001b[1;32m    103\u001b[0m       \u001b[0;32mreturn\u001b[0m \u001b[0mreply\u001b[0m\u001b[0;34m.\u001b[0m\u001b[0mget\u001b[0m\u001b[0;34m(\u001b[0m\u001b[0;34m'data'\u001b[0m\u001b[0;34m,\u001b[0m \u001b[0;32mNone\u001b[0m\u001b[0;34m)\u001b[0m\u001b[0;34m\u001b[0m\u001b[0;34m\u001b[0m\u001b[0m\n\u001b[1;32m    104\u001b[0m \u001b[0;34m\u001b[0m\u001b[0m\n",
            "\u001b[0;31mMessageError\u001b[0m: Error: credential propagation was unsuccessful"
          ]
        }
      ]
    },
    {
      "cell_type": "code",
      "source": [
        "#cities = pd.read_csv(\"/content/drive/MyDrive/test pfe/cities.csv\")\n",
        "#providers = pd.read_csv(\"/content/drive/MyDrive/test pfe/providers.csv\")\n",
        "#stations = pd.read_csv(\"/content/drive/MyDrive/test pfe/stations.csv\")\n",
        "#tickets = pd.read_csv(\"/content/drive/MyDrive/test pfe/ticket_data.csv\")"
      ],
      "metadata": {
        "id": "6IDgcGWVERXM"
      },
      "execution_count": null,
      "outputs": []
    },
    {
      "cell_type": "code",
      "execution_count": null,
      "metadata": {
        "id": "gMvTt9zYasXI"
      },
      "outputs": [],
      "source": [
        "cities = pd.read_csv(\"/content/cities.csv\")\n",
        "providers = pd.read_csv(\"/content/providers.csv\")\n",
        "stations = pd.read_csv(\"/content/stations.csv\")\n",
        "tickets = pd.read_csv(\"/content/drive/MyDrive/test pfe/ticket_data.csv\")"
      ]
    },
    {
      "cell_type": "code",
      "execution_count": null,
      "metadata": {
        "id": "dqTxDoqzebLp"
      },
      "outputs": [],
      "source": [
        "# Aperçu de l'ensemble des données relatives aux villes \n",
        "display(cities)\n",
        "#Les statistiques descriptives correspondantes\n",
        "cities.describe()"
      ]
    },
    {
      "cell_type": "code",
      "execution_count": null,
      "metadata": {
        "id": "Yj_mLUoKefZS"
      },
      "outputs": [],
      "source": [
        "#Aperçu de l'ensemble des données relatives aux fournisseurs\n",
        "display(providers)\n",
        "#Les statistiques descriptives correspondantes\n",
        "providers.describe()"
      ]
    },
    {
      "cell_type": "code",
      "execution_count": null,
      "metadata": {
        "id": "8S2V-25Sefgj"
      },
      "outputs": [],
      "source": [
        "# Aperçu de l'ensemble des données relatives aux stations\n",
        "display(stations)\n",
        "# Les statistiques descriptives correspondantes\n",
        "stations.describe()"
      ]
    },
    {
      "cell_type": "code",
      "execution_count": null,
      "metadata": {
        "id": "p9dbo-KCefnw"
      },
      "outputs": [],
      "source": [
        "# Aperçu de l'ensemble des données relatives aux tickets\n",
        "display(tickets)\n",
        "# Les statistiques descriptives correspondantes\n",
        "tickets.describe()"
      ]
    },
    {
      "cell_type": "markdown",
      "metadata": {
        "id": "1n0FXGJT-BQe"
      },
      "source": [
        "### Extraction d'informations intéressantes et visualisation\n"
      ]
    },
    {
      "cell_type": "markdown",
      "source": [
        "1.   Joindre et fusionner les données nécessaires provenant de différents data frames\n",
        "\n"
      ],
      "metadata": {
        "id": "zRE671zOygGN"
      }
    },
    {
      "cell_type": "code",
      "execution_count": null,
      "metadata": {
        "id": "pXPeVNJTclie"
      },
      "outputs": [],
      "source": [
        "# Conserver les données nécessaires de l'ensemble des données des tickets\n",
        "All_data=tickets[['id','company','price_in_cents', 'o_city','d_city' ,'o_station','d_station','departure_ts','arrival_ts']]"
      ]
    },
    {
      "cell_type": "code",
      "execution_count": null,
      "metadata": {
        "id": "dOQkzFG1WYlD"
      },
      "outputs": [],
      "source": [
        "# Ajout du nom des villes de départ dans l'ensemble de données\n",
        "All_data=pd.merge(All_data, cities[['id','unique_name']], left_on='o_city', right_on='id',how='left')\n",
        "All_data.rename(columns={'unique_name':'o'},inplace=True)\n",
        "All_data=All_data.drop(['id_y'],axis=1)\n",
        "# Ajout du nom des villes d'arrivé dans l'ensemble de données\n",
        "All_data=pd.merge(All_data, cities[['id','unique_name']], left_on='d_city', right_on='id',how='left')\n",
        "All_data.rename(columns={'unique_name':'d'},inplace=True)\n",
        "All_data=All_data.drop(['id'],axis=1)\n",
        "display(All_data)"
      ]
    },
    {
      "cell_type": "code",
      "execution_count": null,
      "metadata": {
        "id": "w3xjQBEMchXn"
      },
      "outputs": [],
      "source": [
        "# Ajout des coordonnées des villes dans le data frame \n",
        "All_data=pd.merge(All_data, cities[['latitude','longitude','unique_name']], left_on='o', right_on='unique_name',how='left')\n",
        "All_data.rename(columns={'latitude':'latitude_depart','longitude':'longitude_depart'},inplace=True)\n",
        "All_data=pd.merge(All_data, cities[['latitude','longitude','unique_name']], left_on='d', right_on='unique_name',how='left')\n",
        "All_data.rename(columns={'latitude':'latitude_destination','longitude':'longitude_destination'},inplace=True)"
      ]
    },
    {
      "cell_type": "code",
      "execution_count": null,
      "metadata": {
        "id": "y54H4rEAjBAM"
      },
      "outputs": [],
      "source": [
        "# Ajout de compagnies de voyage et de leurs offres le data frame \n",
        "All_data=pd.merge(All_data, providers[['id','transport_type','has_bicycle','has_adjustable_seats','has_plug','has_wifi','fullname']], left_on='company', right_on='id',how='left')\n",
        "display(All_data)"
      ]
    },
    {
      "cell_type": "markdown",
      "source": [
        "2.    Ajout des colonnes \"traget\",\"distance\",\"duration\" et\"RangeDistance\"\n",
        "\n",
        "\n",
        " \n"
      ],
      "metadata": {
        "id": "wo8Q3TlFy2Ys"
      }
    },
    {
      "cell_type": "code",
      "execution_count": null,
      "metadata": {
        "id": "nkOTuelGVuX2"
      },
      "outputs": [],
      "source": [
        "All_data=add_traget(All_data)\n",
        "All_data=add_distance(All_data)\n",
        "All_data=add_duration(All_data)\n",
        "All_data=add_RangeDistance(All_data)\n",
        "#keeping necessary informations\n",
        "All_data=All_data[['id_x','o', 'd','company', 'price_in_cents','transport_type',\n",
        "       'has_bicycle', 'has_adjustable_seats', 'has_plug', 'has_wifi',\n",
        "       'fullname', 'traget', 'distance', 'duration','RangeDistance','o_city','d_city']]\n",
        "display(All_data)"
      ]
    },
    {
      "cell_type": "markdown",
      "metadata": {
        "id": "dgV5gG5jhWgW"
      },
      "source": [
        "3.   Visualisation des prix et des durées selon les différents types de transport\n"
      ]
    },
    {
      "cell_type": "code",
      "execution_count": null,
      "metadata": {
        "id": "ZQq10_aDUKyq"
      },
      "outputs": [],
      "source": [
        "ax=All_data.boxplot(by=['transport_type'],column=['price_in_cents'],figsize =(15, 15))\n",
        "ax=All_data.boxplot(by=['transport_type'],column=['duration'],figsize =(15, 15))\n"
      ]
    },
    {
      "cell_type": "markdown",
      "metadata": {
        "id": "MGu9UsCyj4XS"
      },
      "source": [
        "5.   Élimination des données inadéquates\n",
        " "
      ]
    },
    {
      "cell_type": "code",
      "execution_count": null,
      "metadata": {
        "id": "vKXboVGdhduu"
      },
      "outputs": [],
      "source": [
        "All_data=removing_Outlier(All_data)\n",
        "display(All_data)\n",
        "# l'exportation de données qui seront utilisées ultérieurement dans le modèle de prédiction des prix\n",
        "All_data[['company', 'price_in_cents','transport_type',\n",
        "       'has_bicycle', 'has_adjustable_seats', 'has_plug', 'has_wifi', 'distance', 'duration','o_city','d_city']].to_csv('All_data.csv')"
      ]
    },
    {
      "cell_type": "markdown",
      "metadata": {
        "id": "puTYKI6iiGVt"
      },
      "source": [
        "6.   Visualisation des prix et des durées selon les différents types de transport après élimination des données inadéquates\n"
      ]
    },
    {
      "cell_type": "code",
      "execution_count": null,
      "metadata": {
        "id": "CbhDQb_on8e8"
      },
      "outputs": [],
      "source": [
        "ax=All_data.boxplot(by=['transport_type'],column=['price_in_cents'],figsize =(15, 15))\n",
        "ax=All_data.boxplot(by=['transport_type'],column=['duration'],figsize =(15, 15))\n"
      ]
    },
    {
      "cell_type": "markdown",
      "source": [
        "7.   Visualisation des prix et des durées en fonction des différents types de transport et des différentes sociétés de transport.\n"
      ],
      "metadata": {
        "id": "UDEK5kwZ5VDU"
      }
    },
    {
      "cell_type": "code",
      "execution_count": null,
      "metadata": {
        "id": "xJ9BdK9dpPs4"
      },
      "outputs": [],
      "source": [
        "All_data.plot.scatter(x='transport_type', y='fullname', c='price_in_cents',cmap='viridis', s=100,figsize =(10, 10)) \n",
        "All_data.plot.scatter(x='transport_type', y='fullname', c='duration',cmap='viridis', s=100,figsize =(10, 10)) \n"
      ]
    },
    {
      "cell_type": "markdown",
      "source": [
        "### Présentation des résultats"
      ],
      "metadata": {
        "id": "xXpi14677Y1j"
      }
    },
    {
      "cell_type": "markdown",
      "source": [
        "\n",
        "\n",
        "1. Presentation des prix min, moyen ,max et median par trajet et durée min, moyenne ,max et mediane par trajet\n",
        "\n"
      ],
      "metadata": {
        "id": "nkBSF0uRGDxK"
      }
    },
    {
      "cell_type": "code",
      "execution_count": null,
      "metadata": {
        "id": "f-ND4xadiNSC"
      },
      "outputs": [],
      "source": [
        "results1=All_data.groupby('traget').aggregate({'duration':['min','max','mean','median'],'price_in_cents':['min','max','mean','median']})\n",
        "display(results1)"
      ]
    },
    {
      "cell_type": "markdown",
      "source": [
        "2.   Présentation des différents prix moyens, min, max et médians et des temps moyens, min, max et médians selon les différents types de transport : train, bus et covoiturage et selon la distance du trajet : (0-206km),(207-339km),(340-481km) et (481+km) ."
      ],
      "metadata": {
        "id": "AfXBGJbWGGqy"
      }
    },
    {
      "cell_type": "code",
      "execution_count": null,
      "metadata": {
        "id": "qy8KlC-6mVFj"
      },
      "outputs": [],
      "source": [
        "results2=All_data.groupby(['RangeDistance','transport_type']).aggregate({'duration':['min','max','mean','median'],'price_in_cents':['min','max','mean','median']})\n",
        "display(results2)"
      ]
    }
  ],
  "metadata": {
    "colab": {
      "provenance": []
    },
    "kernelspec": {
      "display_name": "Python 3",
      "name": "python3"
    },
    "language_info": {
      "name": "python"
    }
  },
  "nbformat": 4,
  "nbformat_minor": 0
}